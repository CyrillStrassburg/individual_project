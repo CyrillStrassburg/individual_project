{
 "cells": [
  {
   "cell_type": "code",
   "execution_count": 43,
   "metadata": {},
   "outputs": [],
   "source": [
    "import os\n",
    "import sys\n",
    "import Wind_KAN_\n",
    "from kan import *\n",
    "import importlib\n",
    "from Wind_KAN_ import Wind_KAN"
   ]
  },
  {
   "cell_type": "code",
   "execution_count": 44,
   "metadata": {},
   "outputs": [
    {
     "name": "stdout",
     "output_type": "stream",
     "text": [
      "checkpoint directory created: ./model\n",
      "saving model version 0.0\n"
     ]
    }
   ],
   "source": [
    "model = Wind_KAN(width=[4,1], grid=3, k=3, seed=42)"
   ]
  },
  {
   "cell_type": "code",
   "execution_count": 45,
   "metadata": {},
   "outputs": [],
   "source": [
    "winddata_path = os.path.join('..\\\\Liao_code','Task15_W_Zone6.csv')\n",
    "model.get_winddataset(winddata_path)"
   ]
  },
  {
   "cell_type": "code",
   "execution_count": 46,
   "metadata": {},
   "outputs": [],
   "source": [
    "model.save_act = True"
   ]
  },
  {
   "cell_type": "code",
   "execution_count": 47,
   "metadata": {},
   "outputs": [],
   "source": [
    "dataset = model.dataset"
   ]
  },
  {
   "cell_type": "code",
   "execution_count": 48,
   "metadata": {},
   "outputs": [
    {
     "name": "stdout",
     "output_type": "stream",
     "text": [
      "steps:  100\n",
      "batchsize:  -1\n"
     ]
    },
    {
     "name": "stderr",
     "output_type": "stream",
     "text": [
      "| train_loss: 1.89e-01 | test_loss: 1.87e-01 | reg: 8.40e+00 | : 100%|█| 100/100 [00:40<00:00,  2.46"
     ]
    },
    {
     "name": "stdout",
     "output_type": "stream",
     "text": [
      "saving model version 0.1\n",
      "fitted\n"
     ]
    },
    {
     "name": "stderr",
     "output_type": "stream",
     "text": [
      "\n"
     ]
    }
   ],
   "source": [
    "model.fit_model()"
   ]
  },
  {
   "cell_type": "code",
   "execution_count": 49,
   "metadata": {},
   "outputs": [
    {
     "data": {
      "image/png": "[encoded data removed]",
      "text/plain": [
       "<Figure size 500x200 with 6 Axes>"
      ]
     },
     "metadata": {},
     "output_type": "display_data"
    }
   ],
   "source": [
    "model.plot_model()"
   ]
  },
  {
   "cell_type": "code",
   "execution_count": 50,
   "metadata": {},
   "outputs": [
    {
     "name": "stdout",
     "output_type": "stream",
     "text": [
      "fit iter: 1   prune iter: 0   grid: 3   train_time: 40.66   mse: 0.225   mae: 0.157   r2: 0.566\n"
     ]
    }
   ],
   "source": [
    "model_metrics = model.print_history()"
   ]
  },
  {
   "cell_type": "code",
   "execution_count": 51,
   "metadata": {},
   "outputs": [
    {
     "name": "stdout",
     "output_type": "stream",
     "text": [
      "steps:  100\n",
      "batchsize:  -1\n"
     ]
    },
    {
     "name": "stderr",
     "output_type": "stream",
     "text": [
      "| train_loss: 1.89e-01 | test_loss: 1.87e-01 | reg: 8.42e+00 | : 100%|█| 100/100 [00:17<00:00,  5.82\n"
     ]
    },
    {
     "name": "stdout",
     "output_type": "stream",
     "text": [
      "saving model version 0.2\n",
      "fitted\n",
      "saving model version 0.3\n",
      "steps:  100\n",
      "batchsize:  -1\n"
     ]
    },
    {
     "name": "stderr",
     "output_type": "stream",
     "text": [
      "| train_loss: 1.89e-01 | test_loss: 1.87e-01 | reg: 8.41e+00 | : 100%|█| 100/100 [00:15<00:00,  6.40\n"
     ]
    },
    {
     "name": "stdout",
     "output_type": "stream",
     "text": [
      "saving model version 0.3\n",
      "fitted\n",
      "saving model version 0.4\n",
      "steps:  100\n",
      "batchsize:  -1\n"
     ]
    },
    {
     "name": "stderr",
     "output_type": "stream",
     "text": [
      "| train_loss: 1.89e-01 | test_loss: 1.87e-01 | reg: 8.42e+00 | : 100%|█| 100/100 [00:15<00:00,  6.57\n"
     ]
    },
    {
     "name": "stdout",
     "output_type": "stream",
     "text": [
      "saving model version 0.4\n",
      "fitted\n",
      "saving model version 0.5\n"
     ]
    },
    {
     "data": {
      "image/png": "[encoded data removed]",
      "text/plain": [
       "<Figure size 500x200 with 6 Axes>"
      ]
     },
     "metadata": {},
     "output_type": "display_data"
    }
   ],
   "source": [
    "for i in range(3):\n",
    "    model.fit_model()\n",
    "    model.prune()\n",
    "\n",
    "model.plot_model()"
   ]
  },
  {
   "cell_type": "code",
   "execution_count": 55,
   "metadata": {},
   "outputs": [
    {
     "name": "stdout",
     "output_type": "stream",
     "text": [
      "fit iter: 1   prune iter: 0   grid: 3   train_time: 40.66   mse: 0.225   mae: 0.157   r2: 0.566\n",
      "fit iter: 2   prune iter: 0   grid: 3   train_time: 17.19   mse: 0.225   mae: 0.157   r2: 0.566\n",
      "fit iter: 3   prune iter: 0   grid: 3   train_time: 15.64   mse: 0.225   mae: 0.157   r2: 0.566\n",
      "fit iter: 4   prune iter: 0   grid: 3   train_time: 15.25   mse: 0.225   mae: 0.157   r2: 0.566\n"
     ]
    }
   ],
   "source": [
    "model.print_history()"
   ]
  },
  {
   "cell_type": "code",
   "execution_count": 39,
   "metadata": {},
   "outputs": [],
   "source": [
    "importlib.reload(Wind_KAN_)\n",
    "\n",
    "# Loop through methods in the new class and update them on the existing instance\n",
    "for method_name in dir(Wind_KAN_.Wind_KAN):\n",
    "    if callable(getattr(Wind_KAN_.Wind_KAN, method_name)) and not method_name.startswith(\"__\"):\n",
    "        new_method = getattr(Wind_KAN_.Wind_KAN, method_name)\n",
    "        setattr(model, method_name, new_method.__get__(model, model.__class__))"
   ]
  },
  {
   "cell_type": "code",
   "execution_count": 111,
   "metadata": {},
   "outputs": [
    {
     "name": "stdout",
     "output_type": "stream",
     "text": [
      "fixing (0,0,0) with x, r2=0.8634064197540283, c=1\n",
      "fixing (0,1,0) with x, r2=0.8059240579605103, c=1\n",
      "fixing (0,2,0) with sin, r2=0.9829732179641724, c=2\n",
      "fixing (0,3,0) with x^2, r2=0.9765329957008362, c=2\n",
      "saving model version 0.5\n",
      "-1.23*x_1 - 0.98*x_2 + 6.86*(0.5 - x_4)**2 - 0.81*sin(6.54*x_3 - 6.97) + 1.66\n"
     ]
    }
   ],
   "source": [
    "formula = model.get_formula()"
   ]
  },
  {
   "cell_type": "code",
   "execution_count": 112,
   "metadata": {},
   "outputs": [
    {
     "name": "stdout",
     "output_type": "stream",
     "text": [
      "rmse:  0.27210313\n",
      "mae:  0.17700404\n",
      "r2:  0.3662698373960669\n",
      "training time:  13.480702800001382\n"
     ]
    },
    {
     "data": {
      "text/plain": [
       "(0.27210313, 0.17700404, 0.3662698373960669, 13.480702800001382)"
      ]
     },
     "execution_count": 112,
     "metadata": {},
     "output_type": "execute_result"
    }
   ],
   "source": [
    "model.get_metrics()"
   ]
  },
  {
   "cell_type": "code",
   "execution_count": 113,
   "metadata": {},
   "outputs": [
    {
     "data": {
      "text/plain": [
       "(0.2250751, 0.15691043, 0.5663970915667627, 31.90836060000038)"
      ]
     },
     "execution_count": 113,
     "metadata": {},
     "output_type": "execute_result"
    }
   ],
   "source": [
    "model_metrics"
   ]
  }
 ],
 "metadata": {
  "kernelspec": {
   "display_name": ".venv",
   "language": "python",
   "name": "python3"
  },
  "language_info": {
   "codemirror_mode": {
    "name": "ipython",
    "version": 3
   },
   "file_extension": ".py",
   "mimetype": "text/x-python",
   "name": "python",
   "nbconvert_exporter": "python",
   "pygments_lexer": "ipython3",
   "version": "3.9.7"
  }
 },
 "nbformat": 4,
 "nbformat_minor": 2
}
