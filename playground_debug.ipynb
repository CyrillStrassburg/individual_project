{
 "cells": [
  {
   "cell_type": "code",
   "execution_count": 1,
   "metadata": {},
   "outputs": [],
   "source": [
    "import os\n",
    "import sys\n",
    "import Wind_KAN_\n",
    "import importlib\n",
    "import time\n",
    "import matplotlib.pyplot as plt"
   ]
  },
  {
   "cell_type": "code",
   "execution_count": 2,
   "metadata": {},
   "outputs": [],
   "source": [
    "from Wind_KAN_ import *\n",
    "from kan import *\n",
    "torch.set_default_dtype(torch.float64)\n",
    "device = torch.device('cuda' if torch.cuda.is_available() else 'cpu')"
   ]
  },
  {
   "cell_type": "code",
   "execution_count": null,
   "metadata": {},
   "outputs": [],
   "source": [
    "importlib.reload(Wind_KAN_)\n",
    "\n",
    "# Loop through methods in the new class and update them on the existing instance\n",
    "for method_name in dir(Wind_KAN_.Wind_KAN):\n",
    "    if callable(getattr(Wind_KAN_.Wind_KAN, method_name)) and not method_name.startswith(\"__\"):\n",
    "        new_method = getattr(Wind_KAN_.Wind_KAN, method_name)\n",
    "        setattr(instance_of_class, method_name, new_method.__get__(instance_of_class, instance_of_class.__class__))"
   ]
  }
 ],
 "metadata": {
  "kernelspec": {
   "display_name": ".venv",
   "language": "python",
   "name": "python3"
  },
  "language_info": {
   "codemirror_mode": {
    "name": "ipython",
    "version": 3
   },
   "file_extension": ".py",
   "mimetype": "text/x-python",
   "name": "python",
   "nbconvert_exporter": "python",
   "pygments_lexer": "ipython3",
   "version": "3.9.7"
  }
 },
 "nbformat": 4,
 "nbformat_minor": 2
}
