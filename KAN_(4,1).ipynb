{
 "cells": [
  {
   "cell_type": "code",
   "execution_count": 33,
   "metadata": {},
   "outputs": [],
   "source": [
    "import sys\n",
    "import os\n",
    "\n",
    "# Dynamically add the pykan package directory to the Python path\n",
    "package_path = os.path.join(os.path.dirname(os.getcwd()), 'pykan')\n",
    "sys.path.append(package_path)"
   ]
  },
  {
   "cell_type": "code",
   "execution_count": 34,
   "metadata": {},
   "outputs": [
    {
     "data": {
      "text/plain": [
       "'c:\\\\Users\\\\Cyrill\\\\Documents\\\\semester_3\\\\individual_project\\\\Projet_individuel_KAN'"
      ]
     },
     "execution_count": 34,
     "metadata": {},
     "output_type": "execute_result"
    }
   ],
   "source": [
    "os.getcwd()"
   ]
  },
  {
   "cell_type": "code",
   "execution_count": 35,
   "metadata": {},
   "outputs": [
    {
     "data": {
      "text/plain": [
       "'c:\\\\Users\\\\Cyrill\\\\Documents\\\\semester_3\\\\individual_project'"
      ]
     },
     "execution_count": 35,
     "metadata": {},
     "output_type": "execute_result"
    }
   ],
   "source": [
    "os.path.dirname(os.getcwd())"
   ]
  },
  {
   "cell_type": "code",
   "execution_count": 36,
   "metadata": {},
   "outputs": [
    {
     "data": {
      "text/plain": [
       "'c:\\\\Users\\\\Cyrill\\\\Documents\\\\semester_3\\\\individual_project\\\\pykan'"
      ]
     },
     "execution_count": 36,
     "metadata": {},
     "output_type": "execute_result"
    }
   ],
   "source": [
    "package_path"
   ]
  },
  {
   "cell_type": "code",
   "execution_count": 37,
   "metadata": {},
   "outputs": [],
   "source": [
    "import pandas as pd\n",
    "from sklearn.preprocessing import MinMaxScaler\n",
    "import torch\n",
    "import numpy as np"
   ]
  },
  {
   "cell_type": "code",
   "execution_count": 38,
   "metadata": {},
   "outputs": [
    {
     "data": {
      "text/plain": [
       "(torch.Size([1680, 4]), torch.Size([1680, 1]))"
      ]
     },
     "execution_count": 38,
     "metadata": {},
     "output_type": "execute_result"
    }
   ],
   "source": [
    "winddata_path = os.path.join('..\\\\Liao_code','Task15_W_Zone6.csv')\n",
    "data = pd.read_csv(winddata_path)\n",
    "Y = data.iloc[:, 2].values.astype(np.float64)  \n",
    "X = data.iloc[:, 3:7].values.astype(np.float64)\n",
    "\n",
    "\n",
    "scaler = MinMaxScaler()\n",
    "X= scaler.fit_transform(X)\n",
    "split1 = int(0.1 * len(X))\n",
    "split2 = int(0.9 * len(X))\n",
    "\n",
    "X_train, y_train = X[:split1], Y[:split1]\n",
    "X_val, y_val = X[split1:split2], Y[split1:split2]\n",
    "X_test, y_test = X[split2:], Y[split2:]\n",
    "\n",
    "ndarray_data = [X_train, y_train, X_val, y_val, X_test, y_test]\n",
    "tensor_data_list = [torch.from_numpy(x) for x in ndarray_data]\n",
    "\n",
    "tensor_data_list[1] = tensor_data_list[1].unsqueeze(1)  # y_train\n",
    "tensor_data_list[3] = tensor_data_list[3].unsqueeze(1)  # y_val\n",
    "tensor_data_list[5] = tensor_data_list[5].unsqueeze(1)  # y_test\n",
    "\n",
    "# The KAN Class trains on train/validation called train_input/test_input\n",
    "dataset = { 'train_input': tensor_data_list[0],\n",
    "            'train_label': tensor_data_list[1],\n",
    "            'test_input': tensor_data_list[2],\n",
    "            'test_label': tensor_data_list[3],\n",
    "            'true_test_input': tensor_data_list[4],\n",
    "            'true_test_label': tensor_data_list[5]  }\n",
    "\n",
    "dataset['train_input'].shape, dataset['train_label'].shape\n"
   ]
  },
  {
   "cell_type": "code",
   "execution_count": 39,
   "metadata": {},
   "outputs": [
    {
     "name": "stdout",
     "output_type": "stream",
     "text": [
      "cpu\n",
      "checkpoint directory created: ./model\n",
      "saving model version 0.0\n"
     ]
    }
   ],
   "source": [
    "from kan import *\n",
    "torch.set_default_dtype(torch.float64)\n",
    "\n",
    "device = torch.device('cuda' if torch.cuda.is_available() else 'cpu')\n",
    "print(device)\n",
    "\n",
    "# create a KAN: 2D inputs, 1D output, and 5 hidden neurons. cubic spline (k=3), 5 grid intervals (grid=5).\n",
    "model = KAN(width=[4,1], grid=3, k=3, seed=42, device=device)"
   ]
  },
  {
   "cell_type": "code",
   "execution_count": 40,
   "metadata": {},
   "outputs": [
    {
     "data": {
      "image/png": "[encoded data removed]",
      "text/plain": [
       "<Figure size 500x200 with 6 Axes>"
      ]
     },
     "metadata": {},
     "output_type": "display_data"
    }
   ],
   "source": [
    "# plot KAN at initialization\n",
    "model(tensor_data_list[0])\n",
    "model.plot()"
   ]
  },
  {
   "cell_type": "code",
   "execution_count": 41,
   "metadata": {},
   "outputs": [
    {
     "name": "stderr",
     "output_type": "stream",
     "text": [
      "| train_loss: 1.77e-01 | test_loss: 2.04e-01 | reg: 5.65e+00 | : 100%|█| 50/50 [00:10<00:00,  4.84it"
     ]
    },
    {
     "name": "stdout",
     "output_type": "stream",
     "text": [
      "saving model version 0.1\n"
     ]
    },
    {
     "name": "stderr",
     "output_type": "stream",
     "text": [
      "\n"
     ]
    },
    {
     "data": {
      "text/plain": [
       "{'train_loss': [array(0.18065537),\n",
       "  array(0.17672689),\n",
       "  array(0.17677455),\n",
       "  array(0.17606678),\n",
       "  array(0.1766027),\n",
       "  array(0.17658892),\n",
       "  array(0.17669005),\n",
       "  array(0.1767409),\n",
       "  array(0.17672335),\n",
       "  array(0.17652815),\n",
       "  array(0.17648064),\n",
       "  array(0.17647008),\n",
       "  array(0.17646065),\n",
       "  array(0.1764595),\n",
       "  array(0.17646224),\n",
       "  array(0.17645871),\n",
       "  array(0.17650647),\n",
       "  array(0.17651232),\n",
       "  array(0.1765266),\n",
       "  array(0.17657656),\n",
       "  array(0.17654714),\n",
       "  array(0.1765049),\n",
       "  array(0.17645953),\n",
       "  array(0.17642855),\n",
       "  array(0.17648314),\n",
       "  array(0.17646998),\n",
       "  array(0.17645875),\n",
       "  array(0.17650733),\n",
       "  array(0.17650733),\n",
       "  array(0.17651829),\n",
       "  array(0.17652997),\n",
       "  array(0.17652946),\n",
       "  array(0.17651821),\n",
       "  array(0.17651722),\n",
       "  array(0.17651435),\n",
       "  array(0.17651434),\n",
       "  array(0.1765143),\n",
       "  array(0.17651429),\n",
       "  array(0.17651429),\n",
       "  array(0.17651429),\n",
       "  array(0.17651429),\n",
       "  array(0.17651429),\n",
       "  array(0.17651429),\n",
       "  array(0.17651429),\n",
       "  array(0.17651429),\n",
       "  array(0.17651429),\n",
       "  array(0.17651429),\n",
       "  array(0.17651429),\n",
       "  array(0.17651429),\n",
       "  array(0.17651429)],\n",
       " 'test_loss': [array(0.20837757),\n",
       "  array(0.2048719),\n",
       "  array(0.2042512),\n",
       "  array(0.2054132),\n",
       "  array(0.20485332),\n",
       "  array(0.20481257),\n",
       "  array(0.20475981),\n",
       "  array(0.20442317),\n",
       "  array(0.20431845),\n",
       "  array(0.204268),\n",
       "  array(0.20422728),\n",
       "  array(0.20431),\n",
       "  array(0.2043699),\n",
       "  array(0.20436706),\n",
       "  array(0.2044514),\n",
       "  array(0.2044687),\n",
       "  array(0.20449691),\n",
       "  array(0.20453405),\n",
       "  array(0.2045494),\n",
       "  array(0.20454749),\n",
       "  array(0.20449117),\n",
       "  array(0.20441445),\n",
       "  array(0.20440057),\n",
       "  array(0.20429112),\n",
       "  array(0.20433484),\n",
       "  array(0.20382207),\n",
       "  array(0.20374483),\n",
       "  array(0.20377316),\n",
       "  array(0.203761),\n",
       "  array(0.20378111),\n",
       "  array(0.20376837),\n",
       "  array(0.20382871),\n",
       "  array(0.20379966),\n",
       "  array(0.20380853),\n",
       "  array(0.20380579),\n",
       "  array(0.20380568),\n",
       "  array(0.20380593),\n",
       "  array(0.20380587),\n",
       "  array(0.20380588),\n",
       "  array(0.20380588),\n",
       "  array(0.20380588),\n",
       "  array(0.20380588),\n",
       "  array(0.20380588),\n",
       "  array(0.20380588),\n",
       "  array(0.20380588),\n",
       "  array(0.20380588),\n",
       "  array(0.20380588),\n",
       "  array(0.20380588),\n",
       "  array(0.20380588),\n",
       "  array(0.20380588)],\n",
       " 'reg': [array(6.27630001),\n",
       "  array(6.48011805),\n",
       "  array(5.98409257),\n",
       "  array(5.97969304),\n",
       "  array(5.69273489),\n",
       "  array(5.69407576),\n",
       "  array(5.65423492),\n",
       "  array(5.63089031),\n",
       "  array(5.62903147),\n",
       "  array(5.68715354),\n",
       "  array(5.70159293),\n",
       "  array(5.69972253),\n",
       "  array(5.70239968),\n",
       "  array(5.70277287),\n",
       "  array(5.70143537),\n",
       "  array(5.70263536),\n",
       "  array(5.68511836),\n",
       "  array(5.68293232),\n",
       "  array(5.67773432),\n",
       "  array(5.65936175),\n",
       "  array(5.66183599),\n",
       "  array(5.67168151),\n",
       "  array(5.68588979),\n",
       "  array(5.69261065),\n",
       "  array(5.66479469),\n",
       "  array(5.66308164),\n",
       "  array(5.6666859),\n",
       "  array(5.64887736),\n",
       "  array(5.64879753),\n",
       "  array(5.64486804),\n",
       "  array(5.64060664),\n",
       "  array(5.64064006),\n",
       "  array(5.64457905),\n",
       "  array(5.64492399),\n",
       "  array(5.64593321),\n",
       "  array(5.64593945),\n",
       "  array(5.64595144),\n",
       "  array(5.64595508),\n",
       "  array(5.64595529),\n",
       "  array(5.64595529),\n",
       "  array(5.64595529),\n",
       "  array(5.64595527),\n",
       "  array(5.64595527),\n",
       "  array(5.64595527),\n",
       "  array(5.64595527),\n",
       "  array(5.64595527),\n",
       "  array(5.64595526),\n",
       "  array(5.64595524),\n",
       "  array(5.64595524),\n",
       "  array(5.64595523)]}"
      ]
     },
     "execution_count": 41,
     "metadata": {},
     "output_type": "execute_result"
    }
   ],
   "source": [
    "model.fit(dataset, steps=50, lamb=0.001)"
   ]
  },
  {
   "cell_type": "code",
   "execution_count": 42,
   "metadata": {},
   "outputs": [
    {
     "data": {
      "image/png": "[encoded data removed]",
      "text/plain": [
       "<Figure size 500x200 with 6 Axes>"
      ]
     },
     "metadata": {},
     "output_type": "display_data"
    }
   ],
   "source": [
    "model.plot()"
   ]
  },
  {
   "cell_type": "code",
   "execution_count": 43,
   "metadata": {},
   "outputs": [
    {
     "name": "stdout",
     "output_type": "stream",
     "text": [
      "saving model version 0.2\n"
     ]
    }
   ],
   "source": [
    "model = model.prune()"
   ]
  },
  {
   "cell_type": "code",
   "execution_count": 44,
   "metadata": {},
   "outputs": [
    {
     "data": {
      "image/png": "[encoded data removed]",
      "text/plain": [
       "<Figure size 500x200 with 6 Axes>"
      ]
     },
     "metadata": {},
     "output_type": "display_data"
    }
   ],
   "source": [
    "model.plot()"
   ]
  },
  {
   "cell_type": "code",
   "execution_count": 45,
   "metadata": {},
   "outputs": [
    {
     "name": "stderr",
     "output_type": "stream",
     "text": [
      "| train_loss: 1.77e-01 | test_loss: 2.04e-01 | reg: 5.56e+00 | : 100%|█| 50/50 [00:14<00:00,  3.50it"
     ]
    },
    {
     "name": "stdout",
     "output_type": "stream",
     "text": [
      "saving model version 0.3\n"
     ]
    },
    {
     "name": "stderr",
     "output_type": "stream",
     "text": [
      "\n"
     ]
    },
    {
     "data": {
      "text/plain": [
       "{'train_loss': [array(0.17647589),\n",
       "  array(0.17633476),\n",
       "  array(0.1764686),\n",
       "  array(0.17650338),\n",
       "  array(0.17654313),\n",
       "  array(0.17636313),\n",
       "  array(0.17633779),\n",
       "  array(0.17664904),\n",
       "  array(0.17660844),\n",
       "  array(0.17654653),\n",
       "  array(0.17655009),\n",
       "  array(0.17659221),\n",
       "  array(0.17659929),\n",
       "  array(0.17661696),\n",
       "  array(0.17660842),\n",
       "  array(0.17659825),\n",
       "  array(0.1766132),\n",
       "  array(0.17660006),\n",
       "  array(0.17660054),\n",
       "  array(0.17660724),\n",
       "  array(0.17660763),\n",
       "  array(0.17660827),\n",
       "  array(0.17660915),\n",
       "  array(0.17660737),\n",
       "  array(0.17660753),\n",
       "  array(0.17660735),\n",
       "  array(0.1766075),\n",
       "  array(0.17660778),\n",
       "  array(0.1766055),\n",
       "  array(0.1766046),\n",
       "  array(0.17660565),\n",
       "  array(0.1766068),\n",
       "  array(0.17660596),\n",
       "  array(0.17660505),\n",
       "  array(0.17660756),\n",
       "  array(0.17660527),\n",
       "  array(0.17660218),\n",
       "  array(0.1765983),\n",
       "  array(0.17660837),\n",
       "  array(0.17662282),\n",
       "  array(0.17660331),\n",
       "  array(0.17661104),\n",
       "  array(0.17659756),\n",
       "  array(0.17660201),\n",
       "  array(0.17661337),\n",
       "  array(0.17660294),\n",
       "  array(0.17660464),\n",
       "  array(0.17659314),\n",
       "  array(0.17660334),\n",
       "  array(0.17661314)],\n",
       " 'test_loss': [array(0.20413086),\n",
       "  array(0.20450631),\n",
       "  array(0.20442176),\n",
       "  array(0.20427609),\n",
       "  array(0.20428299),\n",
       "  array(0.20416811),\n",
       "  array(0.20408012),\n",
       "  array(0.20408227),\n",
       "  array(0.20414996),\n",
       "  array(0.20421835),\n",
       "  array(0.20416547),\n",
       "  array(0.20415001),\n",
       "  array(0.20415779),\n",
       "  array(0.20419873),\n",
       "  array(0.20419472),\n",
       "  array(0.2041984),\n",
       "  array(0.20420355),\n",
       "  array(0.20421963),\n",
       "  array(0.20422561),\n",
       "  array(0.20423469),\n",
       "  array(0.20423583),\n",
       "  array(0.2042364),\n",
       "  array(0.20423871),\n",
       "  array(0.20423836),\n",
       "  array(0.20424634),\n",
       "  array(0.20424447),\n",
       "  array(0.20423986),\n",
       "  array(0.2042399),\n",
       "  array(0.20423993),\n",
       "  array(0.20423883),\n",
       "  array(0.20423606),\n",
       "  array(0.20423668),\n",
       "  array(0.20423818),\n",
       "  array(0.20423864),\n",
       "  array(0.20423717),\n",
       "  array(0.20423733),\n",
       "  array(0.20423491),\n",
       "  array(0.20422478),\n",
       "  array(0.20422373),\n",
       "  array(0.20422782),\n",
       "  array(0.20420059),\n",
       "  array(0.20420994),\n",
       "  array(0.20418533),\n",
       "  array(0.20418348),\n",
       "  array(0.20419611),\n",
       "  array(0.2042221),\n",
       "  array(0.20421552),\n",
       "  array(0.20419806),\n",
       "  array(0.20415825),\n",
       "  array(0.20416608)],\n",
       " 'reg': [array(5.64745143),\n",
       "  array(5.68847026),\n",
       "  array(5.63781873),\n",
       "  array(5.62379494),\n",
       "  array(5.60928902),\n",
       "  array(5.67005417),\n",
       "  array(5.67401534),\n",
       "  array(5.55708132),\n",
       "  array(5.56863311),\n",
       "  array(5.58927986),\n",
       "  array(5.58711041),\n",
       "  array(5.5718865),\n",
       "  array(5.56931418),\n",
       "  array(5.56302046),\n",
       "  array(5.56602047),\n",
       "  array(5.56960166),\n",
       "  array(5.56429268),\n",
       "  array(5.56890498),\n",
       "  array(5.56871187),\n",
       "  array(5.56634159),\n",
       "  array(5.56620382),\n",
       "  array(5.5659776),\n",
       "  array(5.56566648),\n",
       "  array(5.56629427),\n",
       "  array(5.56623399),\n",
       "  array(5.56629978),\n",
       "  array(5.56624305),\n",
       "  array(5.5661445),\n",
       "  array(5.56694771),\n",
       "  array(5.56726802),\n",
       "  array(5.56689369),\n",
       "  array(5.56648852),\n",
       "  array(5.56678652),\n",
       "  array(5.5671065),\n",
       "  array(5.5662169),\n",
       "  array(5.56702388),\n",
       "  array(5.56811582),\n",
       "  array(5.56947028),\n",
       "  array(5.56583862),\n",
       "  array(5.56069555),\n",
       "  array(5.56752326),\n",
       "  array(5.56474437),\n",
       "  array(5.56947048),\n",
       "  array(5.56786125),\n",
       "  array(5.56379478),\n",
       "  array(5.56743285),\n",
       "  array(5.56676753),\n",
       "  array(5.57073251),\n",
       "  array(5.56703349),\n",
       "  array(5.5634636)]}"
      ]
     },
     "execution_count": 45,
     "metadata": {},
     "output_type": "execute_result"
    }
   ],
   "source": [
    "model.fit(dataset, steps=50, lamb=0.001)"
   ]
  },
  {
   "cell_type": "code",
   "execution_count": 46,
   "metadata": {},
   "outputs": [
    {
     "data": {
      "image/png": "[encoded data removed]",
      "text/plain": [
       "<Figure size 500x200 with 6 Axes>"
      ]
     },
     "metadata": {},
     "output_type": "display_data"
    }
   ],
   "source": [
    "model.plot()"
   ]
  },
  {
   "cell_type": "code",
   "execution_count": 47,
   "metadata": {},
   "outputs": [
    {
     "name": "stdout",
     "output_type": "stream",
     "text": [
      "rmse:  0.22868873262600126\n",
      "mae:  0.16318609046201707\n",
      "r2:  <function r2_score at 0x00000211B1087F70>\n"
     ]
    }
   ],
   "source": [
    "from sklearn.metrics import mean_squared_error, mean_absolute_error, r2_score\n",
    "\n",
    "predictions = model(dataset['true_test_input']).detach().numpy()\n",
    "\n",
    "rmse = mean_squared_error(y_test, predictions, squared=False)\n",
    "mae=mean_absolute_error(y_test, predictions)\n",
    "r2 = r2_score(dataset['true_test_label'], predictions)\n",
    "\n",
    "print('rmse: ', rmse)\n",
    "print('mae: ', mae)\n",
    "print('r2: ', r2_score)"
   ]
  },
  {
   "cell_type": "code",
   "execution_count": 48,
   "metadata": {},
   "outputs": [
    {
     "data": {
      "text/plain": [
       "<module 'kan' from 'c:\\\\Users\\\\Cyrill\\\\Documents\\\\semester_3\\\\individual_project\\\\.venv\\\\lib\\\\site-packages\\\\kan\\\\__init__.py'>"
      ]
     },
     "execution_count": 48,
     "metadata": {},
     "output_type": "execute_result"
    }
   ],
   "source": [
    "import importlib\n",
    "import kan\n",
    "importlib.reload(kan)"
   ]
  },
  {
   "cell_type": "code",
   "execution_count": null,
   "metadata": {},
   "outputs": [
    {
     "data": {
      "text/plain": [
       "(<function kan.utils.<lambda>(x)>,\n",
       " <function kan.utils.<lambda>(x)>,\n",
       " 0,\n",
       " <function kan.utils.<lambda>(x, y_th)>)"
      ]
     },
     "execution_count": 49,
     "metadata": {},
     "output_type": "execute_result"
    }
   ],
   "source": [
    "from kan.utils import SYMBOLIC_LIB\n",
    "from kan.utils import ex_round\n",
    "\n",
    "\n",
    "my_symbolics = SYMBOLIC_LIB.copy()\n",
    "my_symbolics.pop('0')"
   ]
  },
  {
   "cell_type": "code",
   "execution_count": 50,
   "metadata": {},
   "outputs": [
    {
     "name": "stdout",
     "output_type": "stream",
     "text": [
      "here\n",
      "fixing (0,0,0) with 0\n",
      "fixing (0,1,0) with x, r2=0.9054094916466376, c=1\n",
      "fixing (0,2,0) with cos, r2=0.9912822184412589, c=2\n",
      "fixing (0,3,0) with cos, r2=0.9907963270350327, c=2\n",
      "saving model version 0.4\n"
     ]
    }
   ],
   "source": [
    "print('here')\n",
    "model.auto_symbolic(lib=my_symbolics)"
   ]
  },
  {
   "cell_type": "code",
   "execution_count": 54,
   "metadata": {},
   "outputs": [
    {
     "name": "stderr",
     "output_type": "stream",
     "text": [
      "| train_loss: 1.75e-01 | test_loss: 2.09e-01 | reg: 0.00e+00 | : 100%|█| 50/50 [00:03<00:00, 12.65it"
     ]
    },
    {
     "name": "stdout",
     "output_type": "stream",
     "text": [
      "saving model version 0.5\n"
     ]
    },
    {
     "name": "stderr",
     "output_type": "stream",
     "text": [
      "\n"
     ]
    },
    {
     "data": {
      "text/plain": [
       "{'train_loss': [array(0.17579548),\n",
       "  array(0.17563),\n",
       "  array(0.17560354),\n",
       "  array(0.17548547),\n",
       "  array(0.1754655),\n",
       "  array(0.17546526),\n",
       "  array(0.17546526),\n",
       "  array(0.17546526),\n",
       "  array(0.17546526),\n",
       "  array(0.17546526),\n",
       "  array(0.17546526),\n",
       "  array(0.17546526),\n",
       "  array(0.17546526),\n",
       "  array(0.17546526),\n",
       "  array(0.17546526),\n",
       "  array(0.17546526),\n",
       "  array(0.17546526),\n",
       "  array(0.17546526),\n",
       "  array(0.17546526),\n",
       "  array(0.17546526),\n",
       "  array(0.17546526),\n",
       "  array(0.17546526),\n",
       "  array(0.17546526),\n",
       "  array(0.17546526),\n",
       "  array(0.17546526),\n",
       "  array(0.17546526),\n",
       "  array(0.17546526),\n",
       "  array(0.17546526),\n",
       "  array(0.17546526),\n",
       "  array(0.17546526),\n",
       "  array(0.17546526),\n",
       "  array(0.17546526),\n",
       "  array(0.17546526),\n",
       "  array(0.17546526),\n",
       "  array(0.17546526),\n",
       "  array(0.17546526),\n",
       "  array(0.17546526),\n",
       "  array(0.17546526),\n",
       "  array(0.17546526),\n",
       "  array(0.17546526),\n",
       "  array(0.17546526),\n",
       "  array(0.17546526),\n",
       "  array(0.17546526),\n",
       "  array(0.17546526),\n",
       "  array(0.17546526),\n",
       "  array(0.17546526),\n",
       "  array(0.17546526),\n",
       "  array(0.17546526),\n",
       "  array(0.17546526),\n",
       "  array(0.17546526)],\n",
       " 'test_loss': [array(0.20680813),\n",
       "  array(0.20721917),\n",
       "  array(0.20746238),\n",
       "  array(0.20819603),\n",
       "  array(0.20887626),\n",
       "  array(0.20891861),\n",
       "  array(0.20891866),\n",
       "  array(0.20891866),\n",
       "  array(0.20891866),\n",
       "  array(0.20891866),\n",
       "  array(0.20891866),\n",
       "  array(0.20891866),\n",
       "  array(0.20891866),\n",
       "  array(0.20891866),\n",
       "  array(0.20891866),\n",
       "  array(0.20891866),\n",
       "  array(0.20891866),\n",
       "  array(0.20891866),\n",
       "  array(0.20891866),\n",
       "  array(0.20891866),\n",
       "  array(0.20891866),\n",
       "  array(0.20891866),\n",
       "  array(0.20891866),\n",
       "  array(0.20891866),\n",
       "  array(0.20891866),\n",
       "  array(0.20891866),\n",
       "  array(0.20891866),\n",
       "  array(0.20891866),\n",
       "  array(0.20891866),\n",
       "  array(0.20891866),\n",
       "  array(0.20891866),\n",
       "  array(0.20891866),\n",
       "  array(0.20891866),\n",
       "  array(0.20891866),\n",
       "  array(0.20891866),\n",
       "  array(0.20891866),\n",
       "  array(0.20891866),\n",
       "  array(0.20891866),\n",
       "  array(0.20891866),\n",
       "  array(0.20891866),\n",
       "  array(0.20891866),\n",
       "  array(0.20891866),\n",
       "  array(0.20891866),\n",
       "  array(0.20891866),\n",
       "  array(0.20891866),\n",
       "  array(0.20891866),\n",
       "  array(0.20891866),\n",
       "  array(0.20891866),\n",
       "  array(0.20891866),\n",
       "  array(0.20891866)],\n",
       " 'reg': [array(0.),\n",
       "  array(0.),\n",
       "  array(0.),\n",
       "  array(0.),\n",
       "  array(0.),\n",
       "  array(0.),\n",
       "  array(0.),\n",
       "  array(0.),\n",
       "  array(0.),\n",
       "  array(0.),\n",
       "  array(0.),\n",
       "  array(0.),\n",
       "  array(0.),\n",
       "  array(0.),\n",
       "  array(0.),\n",
       "  array(0.),\n",
       "  array(0.),\n",
       "  array(0.),\n",
       "  array(0.),\n",
       "  array(0.),\n",
       "  array(0.),\n",
       "  array(0.),\n",
       "  array(0.),\n",
       "  array(0.),\n",
       "  array(0.),\n",
       "  array(0.),\n",
       "  array(0.),\n",
       "  array(0.),\n",
       "  array(0.),\n",
       "  array(0.),\n",
       "  array(0.),\n",
       "  array(0.),\n",
       "  array(0.),\n",
       "  array(0.),\n",
       "  array(0.),\n",
       "  array(0.),\n",
       "  array(0.),\n",
       "  array(0.),\n",
       "  array(0.),\n",
       "  array(0.),\n",
       "  array(0.),\n",
       "  array(0.),\n",
       "  array(0.),\n",
       "  array(0.),\n",
       "  array(0.),\n",
       "  array(0.),\n",
       "  array(0.),\n",
       "  array(0.),\n",
       "  array(0.),\n",
       "  array(0.)]}"
      ]
     },
     "execution_count": 54,
     "metadata": {},
     "output_type": "execute_result"
    }
   ],
   "source": [
    "model.fit(dataset, steps=50, lamb=0.001)"
   ]
  },
  {
   "cell_type": "code",
   "execution_count": 55,
   "metadata": {},
   "outputs": [
    {
     "data": {
      "image/png": "[encoded data removed]",
      "text/plain": [
       "<Figure size 500x200 with 6 Axes>"
      ]
     },
     "metadata": {},
     "output_type": "display_data"
    }
   ],
   "source": [
    "model.plot()"
   ]
  },
  {
   "cell_type": "code",
   "execution_count": 56,
   "metadata": {},
   "outputs": [
    {
     "data": {
      "text/latex": [
       "$\\displaystyle - 1.56 x_{2} - 0.45 \\cos{\\left(7.9 x_{3} - 3.09 \\right)} - 0.74 \\cos{\\left(5.04 x_{4} + 10.17 \\right)} + 1.96$"
      ],
      "text/plain": [
       "-1.56*x_2 - 0.45*cos(7.9*x_3 - 3.09) - 0.74*cos(5.04*x_4 + 10.17) + 1.96"
      ]
     },
     "execution_count": 56,
     "metadata": {},
     "output_type": "execute_result"
    }
   ],
   "source": [
    "from kan.utils import ex_round\n",
    "ex_round(model.symbolic_formula()[0][0],2)"
   ]
  },
  {
   "cell_type": "code",
   "execution_count": null,
   "metadata": {},
   "outputs": [],
   "source": []
  }
 ],
 "metadata": {
  "kernelspec": {
   "display_name": ".venv",
   "language": "python",
   "name": "python3"
  },
  "language_info": {
   "codemirror_mode": {
    "name": "ipython",
    "version": 3
   },
   "file_extension": ".py",
   "mimetype": "text/x-python",
   "name": "python",
   "nbconvert_exporter": "python",
   "pygments_lexer": "ipython3",
   "version": "3.9.7"
  }
 },
 "nbformat": 4,
 "nbformat_minor": 2
}
